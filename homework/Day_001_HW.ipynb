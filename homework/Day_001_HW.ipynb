#!/usr/bin/env python
# coding: utf-8

# ## 練習時間
# #### 請寫一個函式用來計算 Mean Square Error
# $ MSE = \frac{1}{n}\sum_{i=1}^{n}{(Y_i - \hat{Y}_i)^2} $
# 
# ### Hint: [如何取平方](https://googoodesign.gitbooks.io/-ezpython/unit-1.html)

# # [作業目標]
# - 仿造範例的MAE函數, 自己寫一個MSE函數(參考上面公式)

# # [作業重點]
# - 注意程式的縮排
# - 是否能將數學公式, 轉換為 Python 的函式組合? (In[2], Out[2])

# In[ ]:


# 載入基礎套件與代稱
import numpy as np
import matplotlib.pyplot as plt


# In[ ]:


def mean_absolute_error(y, yp):
    """
    計算 MAE
    Args:
        - y: 實際值
        - yp: 預測值
    Return:
        - mae: MAE
    """
    mae = MAE = sum(abs(y - yp)) / len(y)
    return mae

# 定義 mean_squared_error 這個函數, 計算並傳回 MSE
def mean_squared_error(y,yp):
    """
    請完成這個 Function 後往下執行"""
    mse = sum((y - yp) ** 2) / len(yp)
    return mse    


# In[ ]:


# 與範例相同, 不另外解說
w = 3
b = 0.5
x_lin = np.linspace(0, 100, 101)
y = (x_lin + np.random.randn(101) * 5) * w + b

plt.plot(x_lin, y, 'b.', label = 'data points')
plt.title("Assume we have data points")
plt.legend(loc = 2)
plt.show()


# In[ ]:


# 與範例相同, 不另外解說
y_hat = x_lin * w + b
plt.plot(x_lin, y, 'b.', label = 'data')
plt.plot(x_lin, y_hat, 'r-', label = 'prediction')
plt.title("Assume we have data points (And the prediction)")
plt.legend(loc = 2)
plt.show()


# In[ ]:


# 執行 Function, 確認有沒有正常執行
MSE = mean_squared_error(y, y_hat)
MAE = mean_absolute_error(y, y_hat)
print("The Mean squared error is %.3f" % (MSE))
print("The Mean absolute error is %.3f" % (MAE))


# # [作業2]
# 
# 請上 Kaggle, 在 Competitions 或 Dataset 中找一組競賽或資料並寫下：
# 
# 1. 你選的這組資料為何重要
# 
# 2. 資料從何而來 (tips: 譬如提供者是誰、以什麼方式蒐集)
# 
# 3. 蒐集而來的資料型態為何
# 
# 4. 這組資料想解決的問題如何評估
# 
# # [作業3]
# 
# 想像你經營一個自由載客車隊，你希望能透過數據分析以提升業績，請你思考並描述你如何規劃整體的分析/解決方案：
# 
# 1. 核心問題為何 (tips：如何定義 「提升業績 & 你的假設」)
# 
# 2. 資料從何而來 (tips：哪些資料可能會對你想問的問題產生影響 & 資料如何蒐集)
# 
# 3. 蒐集而來的資料型態為何
# 
# 4. 你要回答的問題，其如何評估 (tips：你的假設如何驗證)
# 
# 
# 
# [作業2]
# 
# https://www.kaggle.com/pratapvardhan/kanye-lyrics-eda-song-generator-topic-modelling
# 1.可以拿來輔助歌詞創作者/文案工作者寫出像音樂家Kanye的文字風格。
# 2.從歌詞網站Rap Genius爬蟲出來的上百首文字檔，切斷成句。
# 3.非結構化資料：文字
# 4.使用自動歌詞生成器的成品是否文句通順，有押韻，若無則修改模型。
# 
# [作業 3]
# 1.提升業績（定義：透過降低空車時間進而增加營收）的方法數例：
# (1)找出離市區遠，交通不便但消費力強的社區加強投放廣告，增加長途載客數。
# (2)設計幾條方便在各時段可以最快速從熱門下車點到熱門上車點折返的路徑，搶在同行之前載到鬧區散客。
# (3)改善服務品質，例如司機儀態，車況等等
# 
# 2.司機GPS座標，叫車app顧客評論，同行相關新聞與論壇評論
# 
# 3.文字與數值
# 
# 4.先看是否有達到第一步降低空車時間，再看是否有增加營收

# In[ ]:








# In[ ]:




